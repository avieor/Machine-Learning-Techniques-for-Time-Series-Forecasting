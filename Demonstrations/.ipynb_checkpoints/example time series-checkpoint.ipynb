{
 "cells": [
  {
   "cell_type": "markdown",
   "metadata": {},
   "source": [
    "#### Quick Introduction\n",
    "\n",
    "The purpose of this notebook is to provide a very simplistic example of Multivariate Time Series Forecasting using Python"
   ]
  },
  {
   "cell_type": "code",
   "execution_count": null,
   "metadata": {},
   "outputs": [],
   "source": [
    "# Load libraries\n",
    "import pandas as pd\n",
    "import numpy as np\n",
    "import datetime\n",
    "from sklearn.model_selection import train_test_split\n",
    "from sklearn.linear_model import LinearRegression\n",
    "from sklearn.metrics import mean_absolute_error\n",
    "\n",
    "# Load data\n",
    "df = pd.read_csv(\"../Data/Appliances Energy Usage Prediction/energydata_complete.csv\")\n",
    "df.head()\n",
    "\n",
    "# Convert date column in the appropriate format\n",
    "df['date'] = pd.to_datetime(df['date'], format='%Y-%m-%d %H:%M:%S')\n",
    "\n",
    "df.head()"
   ]
  },
  {
   "cell_type": "code",
   "execution_count": null,
   "metadata": {},
   "outputs": [],
   "source": [
    "# Define the features and target variables\n",
    "target = [\"Appliances\"]\n",
    "features = [\"lights\", \"T1\", \"T2\", \"T3\"]\n",
    "\n",
    "# Define Train Test Split Ratio\n",
    "train_split = 0.7\n",
    "test_split = 0.3\n",
    "\n",
    "# Obtain the master dataset\n",
    "master_df = df[[\"date\"] + target + features].copy()\n",
    "master_df.head()"
   ]
  },
  {
   "cell_type": "code",
   "execution_count": null,
   "metadata": {},
   "outputs": [],
   "source": [
    "# Compute the lags of each and every variable\n",
    "newFeatures = []\n",
    "num_lags = int(6)\n",
    "for i in target + features:\n",
    "    for k in range(1,num_lags+1):\n",
    "        # Create lags\n",
    "        master_df[\"{}_{}\".format(str(i), str(k))] = master_df[i].shift(k)\n",
    "        newFeatures.append(\"{}_{}\".format(str(i), str(k)))\n",
    "master_df.head()"
   ]
  },
  {
   "cell_type": "code",
   "execution_count": null,
   "metadata": {},
   "outputs": [],
   "source": [
    "df[target].plot()"
   ]
  },
  {
   "cell_type": "code",
   "execution_count": 5,
   "metadata": {},
   "outputs": [
    {
     "data": {
      "text/html": [
       "<div>\n",
       "<style scoped>\n",
       "    .dataframe tbody tr th:only-of-type {\n",
       "        vertical-align: middle;\n",
       "    }\n",
       "\n",
       "    .dataframe tbody tr th {\n",
       "        vertical-align: top;\n",
       "    }\n",
       "\n",
       "    .dataframe thead th {\n",
       "        text-align: right;\n",
       "    }\n",
       "</style>\n",
       "<table border=\"1\" class=\"dataframe\">\n",
       "  <thead>\n",
       "    <tr style=\"text-align: right;\">\n",
       "      <th></th>\n",
       "      <th>date</th>\n",
       "      <th>Appliances</th>\n",
       "      <th>Appliances_1</th>\n",
       "      <th>Appliances_2</th>\n",
       "    </tr>\n",
       "  </thead>\n",
       "  <tbody>\n",
       "    <tr>\n",
       "      <th>0</th>\n",
       "      <td>2016-01-11 17:00:00</td>\n",
       "      <td>60</td>\n",
       "      <td>NaN</td>\n",
       "      <td>NaN</td>\n",
       "    </tr>\n",
       "    <tr>\n",
       "      <th>1</th>\n",
       "      <td>2016-01-11 17:10:00</td>\n",
       "      <td>60</td>\n",
       "      <td>60.0</td>\n",
       "      <td>NaN</td>\n",
       "    </tr>\n",
       "    <tr>\n",
       "      <th>2</th>\n",
       "      <td>2016-01-11 17:20:00</td>\n",
       "      <td>50</td>\n",
       "      <td>60.0</td>\n",
       "      <td>60.0</td>\n",
       "    </tr>\n",
       "    <tr>\n",
       "      <th>3</th>\n",
       "      <td>2016-01-11 17:30:00</td>\n",
       "      <td>50</td>\n",
       "      <td>50.0</td>\n",
       "      <td>60.0</td>\n",
       "    </tr>\n",
       "    <tr>\n",
       "      <th>4</th>\n",
       "      <td>2016-01-11 17:40:00</td>\n",
       "      <td>60</td>\n",
       "      <td>50.0</td>\n",
       "      <td>50.0</td>\n",
       "    </tr>\n",
       "  </tbody>\n",
       "</table>\n",
       "</div>"
      ],
      "text/plain": [
       "                 date  Appliances  Appliances_1  Appliances_2\n",
       "0 2016-01-11 17:00:00          60           NaN           NaN\n",
       "1 2016-01-11 17:10:00          60          60.0           NaN\n",
       "2 2016-01-11 17:20:00          50          60.0          60.0\n",
       "3 2016-01-11 17:30:00          50          50.0          60.0\n",
       "4 2016-01-11 17:40:00          60          50.0          50.0"
      ]
     },
     "execution_count": 5,
     "metadata": {},
     "output_type": "execute_result"
    }
   ],
   "source": [
    "master_df[[\"date\",\"Appliances\",\"Appliances_1\",\"Appliances_2\"]].head()"
   ]
  },
  {
   "cell_type": "code",
   "execution_count": 6,
   "metadata": {},
   "outputs": [
    {
     "data": {
      "text/html": [
       "<div>\n",
       "<style scoped>\n",
       "    .dataframe tbody tr th:only-of-type {\n",
       "        vertical-align: middle;\n",
       "    }\n",
       "\n",
       "    .dataframe tbody tr th {\n",
       "        vertical-align: top;\n",
       "    }\n",
       "\n",
       "    .dataframe thead th {\n",
       "        text-align: right;\n",
       "    }\n",
       "</style>\n",
       "<table border=\"1\" class=\"dataframe\">\n",
       "  <thead>\n",
       "    <tr style=\"text-align: right;\">\n",
       "      <th></th>\n",
       "      <th>date</th>\n",
       "      <th>Appliances</th>\n",
       "      <th>lights</th>\n",
       "      <th>T1</th>\n",
       "      <th>T2</th>\n",
       "      <th>T3</th>\n",
       "      <th>Appliances_1</th>\n",
       "      <th>Appliances_2</th>\n",
       "      <th>Appliances_3</th>\n",
       "      <th>Appliances_4</th>\n",
       "      <th>...</th>\n",
       "      <th>T2_3</th>\n",
       "      <th>T2_4</th>\n",
       "      <th>T2_5</th>\n",
       "      <th>T2_6</th>\n",
       "      <th>T3_1</th>\n",
       "      <th>T3_2</th>\n",
       "      <th>T3_3</th>\n",
       "      <th>T3_4</th>\n",
       "      <th>T3_5</th>\n",
       "      <th>T3_6</th>\n",
       "    </tr>\n",
       "  </thead>\n",
       "  <tbody>\n",
       "    <tr>\n",
       "      <th>6</th>\n",
       "      <td>2016-01-11 18:00:00</td>\n",
       "      <td>60</td>\n",
       "      <td>50</td>\n",
       "      <td>19.890000</td>\n",
       "      <td>19.200000</td>\n",
       "      <td>19.79</td>\n",
       "      <td>50.0</td>\n",
       "      <td>60.0</td>\n",
       "      <td>50.0</td>\n",
       "      <td>50.0</td>\n",
       "      <td>...</td>\n",
       "      <td>19.2</td>\n",
       "      <td>19.2</td>\n",
       "      <td>19.2</td>\n",
       "      <td>19.2</td>\n",
       "      <td>19.79</td>\n",
       "      <td>19.79</td>\n",
       "      <td>19.79</td>\n",
       "      <td>19.79</td>\n",
       "      <td>19.79</td>\n",
       "      <td>19.79</td>\n",
       "    </tr>\n",
       "    <tr>\n",
       "      <th>7</th>\n",
       "      <td>2016-01-11 18:10:00</td>\n",
       "      <td>60</td>\n",
       "      <td>50</td>\n",
       "      <td>19.856667</td>\n",
       "      <td>19.200000</td>\n",
       "      <td>19.73</td>\n",
       "      <td>60.0</td>\n",
       "      <td>50.0</td>\n",
       "      <td>60.0</td>\n",
       "      <td>50.0</td>\n",
       "      <td>...</td>\n",
       "      <td>19.2</td>\n",
       "      <td>19.2</td>\n",
       "      <td>19.2</td>\n",
       "      <td>19.2</td>\n",
       "      <td>19.79</td>\n",
       "      <td>19.79</td>\n",
       "      <td>19.79</td>\n",
       "      <td>19.79</td>\n",
       "      <td>19.79</td>\n",
       "      <td>19.79</td>\n",
       "    </tr>\n",
       "    <tr>\n",
       "      <th>8</th>\n",
       "      <td>2016-01-11 18:20:00</td>\n",
       "      <td>60</td>\n",
       "      <td>40</td>\n",
       "      <td>19.790000</td>\n",
       "      <td>19.200000</td>\n",
       "      <td>19.73</td>\n",
       "      <td>60.0</td>\n",
       "      <td>60.0</td>\n",
       "      <td>50.0</td>\n",
       "      <td>60.0</td>\n",
       "      <td>...</td>\n",
       "      <td>19.2</td>\n",
       "      <td>19.2</td>\n",
       "      <td>19.2</td>\n",
       "      <td>19.2</td>\n",
       "      <td>19.73</td>\n",
       "      <td>19.79</td>\n",
       "      <td>19.79</td>\n",
       "      <td>19.79</td>\n",
       "      <td>19.79</td>\n",
       "      <td>19.79</td>\n",
       "    </tr>\n",
       "    <tr>\n",
       "      <th>9</th>\n",
       "      <td>2016-01-11 18:30:00</td>\n",
       "      <td>70</td>\n",
       "      <td>40</td>\n",
       "      <td>19.856667</td>\n",
       "      <td>19.230000</td>\n",
       "      <td>19.79</td>\n",
       "      <td>60.0</td>\n",
       "      <td>60.0</td>\n",
       "      <td>60.0</td>\n",
       "      <td>50.0</td>\n",
       "      <td>...</td>\n",
       "      <td>19.2</td>\n",
       "      <td>19.2</td>\n",
       "      <td>19.2</td>\n",
       "      <td>19.2</td>\n",
       "      <td>19.73</td>\n",
       "      <td>19.73</td>\n",
       "      <td>19.79</td>\n",
       "      <td>19.79</td>\n",
       "      <td>19.79</td>\n",
       "      <td>19.79</td>\n",
       "    </tr>\n",
       "    <tr>\n",
       "      <th>10</th>\n",
       "      <td>2016-01-11 18:40:00</td>\n",
       "      <td>230</td>\n",
       "      <td>70</td>\n",
       "      <td>19.926667</td>\n",
       "      <td>19.356667</td>\n",
       "      <td>19.79</td>\n",
       "      <td>70.0</td>\n",
       "      <td>60.0</td>\n",
       "      <td>60.0</td>\n",
       "      <td>60.0</td>\n",
       "      <td>...</td>\n",
       "      <td>19.2</td>\n",
       "      <td>19.2</td>\n",
       "      <td>19.2</td>\n",
       "      <td>19.2</td>\n",
       "      <td>19.79</td>\n",
       "      <td>19.73</td>\n",
       "      <td>19.73</td>\n",
       "      <td>19.79</td>\n",
       "      <td>19.79</td>\n",
       "      <td>19.79</td>\n",
       "    </tr>\n",
       "  </tbody>\n",
       "</table>\n",
       "<p>5 rows × 36 columns</p>\n",
       "</div>"
      ],
      "text/plain": [
       "                  date  Appliances  lights         T1         T2     T3  \\\n",
       "6  2016-01-11 18:00:00          60      50  19.890000  19.200000  19.79   \n",
       "7  2016-01-11 18:10:00          60      50  19.856667  19.200000  19.73   \n",
       "8  2016-01-11 18:20:00          60      40  19.790000  19.200000  19.73   \n",
       "9  2016-01-11 18:30:00          70      40  19.856667  19.230000  19.79   \n",
       "10 2016-01-11 18:40:00         230      70  19.926667  19.356667  19.79   \n",
       "\n",
       "    Appliances_1  Appliances_2  Appliances_3  Appliances_4  ...  T2_3  T2_4  \\\n",
       "6           50.0          60.0          50.0          50.0  ...  19.2  19.2   \n",
       "7           60.0          50.0          60.0          50.0  ...  19.2  19.2   \n",
       "8           60.0          60.0          50.0          60.0  ...  19.2  19.2   \n",
       "9           60.0          60.0          60.0          50.0  ...  19.2  19.2   \n",
       "10          70.0          60.0          60.0          60.0  ...  19.2  19.2   \n",
       "\n",
       "    T2_5  T2_6   T3_1   T3_2   T3_3   T3_4   T3_5   T3_6  \n",
       "6   19.2  19.2  19.79  19.79  19.79  19.79  19.79  19.79  \n",
       "7   19.2  19.2  19.79  19.79  19.79  19.79  19.79  19.79  \n",
       "8   19.2  19.2  19.73  19.79  19.79  19.79  19.79  19.79  \n",
       "9   19.2  19.2  19.73  19.73  19.79  19.79  19.79  19.79  \n",
       "10  19.2  19.2  19.79  19.73  19.73  19.79  19.79  19.79  \n",
       "\n",
       "[5 rows x 36 columns]"
      ]
     },
     "execution_count": 6,
     "metadata": {},
     "output_type": "execute_result"
    }
   ],
   "source": [
    "# Drop Missing Values\n",
    "master_df = master_df.dropna(axis=0, how='any', thresh=None, subset=None, inplace=False)\n",
    "master_df.head()"
   ]
  },
  {
   "cell_type": "code",
   "execution_count": 7,
   "metadata": {},
   "outputs": [],
   "source": [
    "# Split dataset into train/ test set\n",
    "train_records = int(np.round(train_split * master_df.shape[0]))\n",
    "test_records = int(master_df.shape[0]-train_records)\n",
    "\n",
    "X_train = master_df[:train_records][newFeatures].copy()\n",
    "y_train = master_df[:train_records][target].copy()\n",
    "\n",
    "X_test = master_df[-test_records:][newFeatures].copy()\n",
    "y_test = master_df[-test_records:][target].copy()"
   ]
  },
  {
   "cell_type": "code",
   "execution_count": 8,
   "metadata": {},
   "outputs": [
    {
     "data": {
      "text/plain": [
       "(13810, 30)"
      ]
     },
     "execution_count": 8,
     "metadata": {},
     "output_type": "execute_result"
    }
   ],
   "source": [
    "X_train.shape"
   ]
  },
  {
   "cell_type": "code",
   "execution_count": 9,
   "metadata": {},
   "outputs": [
    {
     "data": {
      "text/plain": [
       "(5919, 1)"
      ]
     },
     "execution_count": 9,
     "metadata": {},
     "output_type": "execute_result"
    }
   ],
   "source": [
    "y_test.shape"
   ]
  },
  {
   "cell_type": "code",
   "execution_count": 10,
   "metadata": {},
   "outputs": [
    {
     "name": "stdout",
     "output_type": "stream",
     "text": [
      "Performance on Training Set: 31.423182004977598\n",
      "Performance on Test Set: 28.415453203833344\n"
     ]
    }
   ],
   "source": [
    "# Train a regression model\n",
    "reg = LinearRegression().fit(X_train, y_train)\n",
    "preds = reg.predict(X_train)\n",
    "\n",
    "# Measure the model performance on the train set\n",
    "print(\"Performance on Training Set:\",mean_absolute_error(y_train, preds))\n",
    "\n",
    "# Measure the model performance on the test set\n",
    "preds_test = reg.predict(X_test)\n",
    "print(\"Performance on Test Set:\",mean_absolute_error(y_test, preds_test))"
   ]
  },
  {
   "cell_type": "code",
   "execution_count": null,
   "metadata": {},
   "outputs": [],
   "source": []
  }
 ],
 "metadata": {
  "kernelspec": {
   "display_name": "Python 3",
   "language": "python",
   "name": "python3"
  },
  "language_info": {
   "codemirror_mode": {
    "name": "ipython",
    "version": 3
   },
   "file_extension": ".py",
   "mimetype": "text/x-python",
   "name": "python",
   "nbconvert_exporter": "python",
   "pygments_lexer": "ipython3",
   "version": "3.6.7"
  }
 },
 "nbformat": 4,
 "nbformat_minor": 2
}
